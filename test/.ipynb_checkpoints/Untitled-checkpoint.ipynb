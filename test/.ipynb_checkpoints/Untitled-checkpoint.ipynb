{
 "cells": [
  {
   "cell_type": "code",
   "execution_count": 1,
   "metadata": {},
   "outputs": [
    {
     "name": "stdout",
     "output_type": "stream",
     "text": [
      "{\"text\":\"삼성전자 sk 하이닉스 네이버 카카오 삼성 바이오로직스 lg화학 삼성sdi 현대차 기아 셀트리온 카카오 뱅크 크래프톤 포스코 kb금융 현대모비스 sk 텔레콤 삼성물산 sk 이노베이션 lg전자 신한 지주\"}\n"
     ]
    }
   ],
   "source": [
    "# 네이버 클로바 API - 15초/4원 과금\n",
    "import requests\n",
    "\n",
    "data = open(\"./audio_file/1-20.wav\", \"rb\") # STT를 진행하고자 하는 음성 파일\n",
    "\n",
    "Lang = \"Kor\" # Kor / Jpn / Chn / Eng\n",
    "URL = \"https://naveropenapi.apigw.ntruss.com/recog/v1/stt?lang=\" + Lang\n",
    "    \n",
    "ID = \"sb21okbjmh\" # 인증 정보의 Client ID\n",
    "Secret = \"iFVd8KWihMzJnXRFGbpBQ6vutUT0FhmLzTSAnklV\" # 인증 정보의 Client Secret\n",
    "    \n",
    "headers = {\n",
    "    \"Content-Type\": \"application/octet-stream\", # Fix\n",
    "    \"X-NCP-APIGW-API-KEY-ID\": ID,\n",
    "    \"X-NCP-APIGW-API-KEY\": Secret,\n",
    "}\n",
    "response = requests.post(URL,  data=data, headers=headers)\n",
    "rescode = response.status_code\n",
    "\n",
    "if(rescode == 200):\n",
    "    print (response.text)\n",
    "else:\n",
    "    print(\"Error : \" + response.text)"
   ]
  },
  {
   "cell_type": "code",
   "execution_count": 16,
   "metadata": {},
   "outputs": [
    {
     "data": {
      "text/plain": [
       "'{\"text\":\"삼성전자 sk 하이닉스 네이버 카카오 삼성 바이오로직스 lg화학 삼성sdi 현대차 기아 셀트리온 카카오 뱅크 크래프톤 포스코 kb금융 현대모비스 sk 텔레콤 삼성물산 sk 이노베이션 lg전자 신한 지주\"}'"
      ]
     },
     "execution_count": 16,
     "metadata": {},
     "output_type": "execute_result"
    }
   ],
   "source": [
    "res1 = response\n",
    "res1.text"
   ]
  },
  {
   "cell_type": "code",
   "execution_count": 5,
   "metadata": {},
   "outputs": [
    {
     "data": {
      "text/plain": [
       "'{\"text\":\"엘지생활건강 엔씨소프트 sk 바이오 사이언스 sk 하이닉스 한국전력 lg 두산 중공업 삼성생명 하나금융지주 삼성전기 삼성sds 케이티앤지 넷마블 sk 아이이 테크놀로지 hm 포스코 케미칼 s-oil 아모레퍼시픽 대한항공\"}'"
      ]
     },
     "execution_count": 5,
     "metadata": {},
     "output_type": "execute_result"
    }
   ],
   "source": [
    "data = open(\"./audio_file/21-40.wav\", \"rb\") # STT를 진행하고자 하는 음성 파일\n",
    "res2 = requests.post(URL,  data=data, headers=headers)\n",
    "res2.text"
   ]
  },
  {
   "cell_type": "code",
   "execution_count": 6,
   "metadata": {},
   "outputs": [
    {
     "data": {
      "text/plain": [
       "'{\"text\":\"삼성화재 우리금융지주 고려아연 기업은행 kt sk 바이오 팜 한온 시스템 lg디스플레이 롯데 케미칼 한국조선 해양 한화 솔루션 skc lg유플러스 코웨이 강원랜드 현대글로비스 현대 건설 cj 제일 제당 lg이노텍 미레 에셋\"}'"
      ]
     },
     "execution_count": 6,
     "metadata": {},
     "output_type": "execute_result"
    }
   ],
   "source": [
    "data = open(\"./audio_file/41-60.wav\", \"rb\") # STT를 진행하고자 하는 음성 파일\n",
    "res3 = requests.post(URL,  data=data, headers=headers)\n",
    "res3.text"
   ]
  },
  {
   "cell_type": "code",
   "execution_count": 8,
   "metadata": {},
   "outputs": [
    {
     "data": {
      "text/plain": [
       "'{\"text\":\"현대제철 한국 타이어앤 테크놀로지 금호석유 일진 머티리얼즈 한국금융지주 현대중공업 지주 두산 밥캣 이마트 삼성엔지니어링 오리온 유한양행 삼성 증권 아모레 g db 손해보험 쌍용씨앤비 한진 케미칼 한솔케미칼 nh 투자증권 한국가스공사 gs\"}'"
      ]
     },
     "execution_count": 8,
     "metadata": {},
     "output_type": "execute_result"
    }
   ],
   "source": [
    "data = open(\"./audio_file/61-80.wav\", \"rb\") # STT를 진행하고자 하는 음성 파일\n",
    "res4 = requests.post(URL,  data=data, headers=headers)\n",
    "res4.text"
   ]
  },
  {
   "cell_type": "code",
   "execution_count": 9,
   "metadata": {},
   "outputs": [
    {
     "data": {
      "text/plain": [
       "'{\"text\":\"삼성카드 한전기술 삼성중공업 한미사이언스 동서 gs건설 롯데 지주 두산 퓨얼셀 gs리테일 한미약품 s1 호텔신라 메리츠 증권 cj 대한통운 만도 롯데쇼핑 현대미포조선 한화 생명 팬오션 한화 시스템\"}'"
      ]
     },
     "execution_count": 9,
     "metadata": {},
     "output_type": "execute_result"
    }
   ],
   "source": [
    "data = open(\"./audio_file/81-100.wav\", \"rb\") # STT를 진행하고자 하는 음성 파일\n",
    "res5 = requests.post(URL,  data=data, headers=headers)\n",
    "res5.text"
   ]
  },
  {
   "cell_type": "code",
   "execution_count": 10,
   "metadata": {},
   "outputs": [
    {
     "data": {
      "text/plain": [
       "'{\"text\":\"bgf 리테일 효성 첨단소재 키움 증권 oci bnk 금융지주 cj kcc 녹십자 한국항공 우주 sk 케미칼 제일기획 db 하이텍 씨에스윈드 대우조선해양 효성티앤씨 디앤씨 신풍제약 대우건설 신세계 현대로템 하이트진로 한화\"}'"
      ]
     },
     "execution_count": 10,
     "metadata": {},
     "output_type": "execute_result"
    }
   ],
   "source": [
    "data = open(\"./audio_file/101-120.wav\", \"rb\") # STT를 진행하고자 하는 음성 파일\n",
    "res6 = requests.post(URL,  data=data, headers=headers)\n",
    "res6.text"
   ]
  },
  {
   "cell_type": "code",
   "execution_count": 15,
   "metadata": {},
   "outputs": [
    {
     "data": {
      "text/plain": [
       "'{\"text\":\"하이트진로 한화 포스코 인터내셔널 휠라 홀딩스 현대해상 두산 코오롱인더 한화 에어로스페이스 한전kps 후성 현대위아 효성 한샘 롯데 정밀화학 현대엘리베이 현대백화점 엘르 ls electric 대웅 ls 영원무역\"}'"
      ]
     },
     "execution_count": 15,
     "metadata": {},
     "output_type": "execute_result"
    }
   ],
   "source": [
    "data = open(\"./audio_file/121-140.wav\", \"rb\") # STT를 진행하고자 하는 음성 파일\n",
    "res7 = requests.post(URL,  data=data, headers=headers)\n",
    "res7.text"
   ]
  },
  {
   "cell_type": "code",
   "execution_count": 12,
   "metadata": {},
   "outputs": [
    {
     "data": {
      "text/plain": [
       "'{\"text\":\"아시아나 항공 한국엔 컴퍼니 에프앤에스 홀딩스 농심 오뚜기 대한전선 hdc 현대산업개발 동원시스템즈 동국제강 금호타이어 대웅제약 종근당 더블유 게임즈 코스맥스 지누스 롯데관광개발 아이에스 동서 영풍 sk 네트웍스 녹십자홀딩스\"}'"
      ]
     },
     "execution_count": 12,
     "metadata": {},
     "output_type": "execute_result"
    }
   ],
   "source": [
    "data = open(\"./audio_file/141-160.wav\", \"rb\") # STT를 진행하고자 하는 음성 파일\n",
    "res8 = requests.post(URL,  data=data, headers=headers)\n",
    "res8.text"
   ]
  },
  {
   "cell_type": "code",
   "execution_count": 13,
   "metadata": {},
   "outputs": [
    {
     "data": {
      "text/plain": [
       "'{\"text\":\"롯데칠성 dl 이노션 화승 엔터프라이즈 kg 동부제철 신세계 인터내셔날 cj cgv 한올바이오파마 엘 x 인터네셔널 태광산업 세방전지 대한유화 lig 넥스원 삼양홀딩스 오리온 홀딩스 부광 약품 영진 약품 보령제약 현대그린푸드 동원산업\"}'"
      ]
     },
     "execution_count": 13,
     "metadata": {},
     "output_type": "execute_result"
    }
   ],
   "source": [
    "data = open(\"./audio_file/161-180.wav\", \"rb\") # STT를 진행하고자 하는 음성 파일\n",
    "res9 = requests.post(URL,  data=data, headers=headers)\n",
    "res9.text"
   ]
  },
  {
   "cell_type": "code",
   "execution_count": 14,
   "metadata": {},
   "outputs": [
    {
     "data": {
      "text/plain": [
       "'{\"text\":\"sk 디스커버리 한섬 휴켐스 풍산 한세실업 gkl 한국콜마 쿠쿠홈시스 대상 넥센타이어 동원에프앤비 쿠쿠 홀딩스 snt 모티브 현대홈쇼핑 현대 두산인프라코어 lx 홀딩스 lx 하우시스 롯데 하이마트 일양약품 삼양식품\"}'"
      ]
     },
     "execution_count": 14,
     "metadata": {},
     "output_type": "execute_result"
    }
   ],
   "source": [
    "data = open(\"./audio_file/181-200.wav\", \"rb\") # STT를 진행하고자 하는 음성 파일\n",
    "res10 = requests.post(URL,  data=data, headers=headers)\n",
    "res10.text"
   ]
  },
  {
   "cell_type": "code",
   "execution_count": 17,
   "metadata": {},
   "outputs": [],
   "source": [
    "res1 = res1.text\n",
    "res2 = res2.text\n",
    "res3 = res3.text\n",
    "res4 = res4.text\n",
    "res5 = res5.text\n",
    "res6 = res6.text\n",
    "res7 = res7.text\n",
    "res8 = res8.text\n",
    "res9 = res9.text\n",
    "res10 = res10.text"
   ]
  },
  {
   "cell_type": "code",
   "execution_count": 21,
   "metadata": {},
   "outputs": [
    {
     "name": "stdout",
     "output_type": "stream",
     "text": [
      "{\"text\":\"삼성전자 sk 하이닉스 네이버 카카오 삼성 바이오로직스 lg화학 삼성sdi 현대차 기아 셀트리온 카카오 뱅크 크래프톤 포스코 kb금융 현대모비스 sk 텔레콤 삼성물산 sk 이노베이션 lg전자 신한 지주\"}\n",
      "{\"text\":\"엘지생활건강 엔씨소프트 sk 바이오 사이언스 sk 하이닉스 한국전력 lg 두산 중공업 삼성생명 하나금융지주 삼성전기 삼성sds 케이티앤지 넷마블 sk 아이이 테크놀로지 hm 포스코 케미칼 s-oil 아모레퍼시픽 대한항공\"}\n",
      "{\"text\":\"삼성화재 우리금융지주 고려아연 기업은행 kt sk 바이오 팜 한온 시스템 lg디스플레이 롯데 케미칼 한국조선 해양 한화 솔루션 skc lg유플러스 코웨이 강원랜드 현대글로비스 현대 건설 cj 제일 제당 lg이노텍 미레 에셋\"}\n",
      "{\"text\":\"현대제철 한국 타이어앤 테크놀로지 금호석유 일진 머티리얼즈 한국금융지주 현대중공업 지주 두산 밥캣 이마트 삼성엔지니어링 오리온 유한양행 삼성 증권 아모레 g db 손해보험 쌍용씨앤비 한진 케미칼 한솔케미칼 nh 투자증권 한국가스공사 gs\"}\n",
      "{\"text\":\"삼성카드 한전기술 삼성중공업 한미사이언스 동서 gs건설 롯데 지주 두산 퓨얼셀 gs리테일 한미약품 s1 호텔신라 메리츠 증권 cj 대한통운 만도 롯데쇼핑 현대미포조선 한화 생명 팬오션 한화 시스템\"}\n",
      "{\"text\":\"bgf 리테일 효성 첨단소재 키움 증권 oci bnk 금융지주 cj kcc 녹십자 한국항공 우주 sk 케미칼 제일기획 db 하이텍 씨에스윈드 대우조선해양 효성티앤씨 디앤씨 신풍제약 대우건설 신세계 현대로템 하이트진로 한화\"}\n",
      "{\"text\":\"하이트진로 한화 포스코 인터내셔널 휠라 홀딩스 현대해상 두산 코오롱인더 한화 에어로스페이스 한전kps 후성 현대위아 효성 한샘 롯데 정밀화학 현대엘리베이 현대백화점 엘르 ls electric 대웅 ls 영원무역\"}\n",
      "{\"text\":\"아시아나 항공 한국엔 컴퍼니 에프앤에스 홀딩스 농심 오뚜기 대한전선 hdc 현대산업개발 동원시스템즈 동국제강 금호타이어 대웅제약 종근당 더블유 게임즈 코스맥스 지누스 롯데관광개발 아이에스 동서 영풍 sk 네트웍스 녹십자홀딩스\"}\n",
      "{\"text\":\"롯데칠성 dl 이노션 화승 엔터프라이즈 kg 동부제철 신세계 인터내셔날 cj cgv 한올바이오파마 엘 x 인터네셔널 태광산업 세방전지 대한유화 lig 넥스원 삼양홀딩스 오리온 홀딩스 부광 약품 영진 약품 보령제약 현대그린푸드 동원산업\"}\n",
      "{\"text\":\"sk 디스커버리 한섬 휴켐스 풍산 한세실업 gkl 한국콜마 쿠쿠홈시스 대상 넥센타이어 동원에프앤비 쿠쿠 홀딩스 snt 모티브 현대홈쇼핑 현대 두산인프라코어 lx 홀딩스 lx 하우시스 롯데 하이마트 일양약품 삼양식품\"}\n"
     ]
    }
   ],
   "source": [
    "res = [res1, res2, res3, res4, res5, res6, res7, res8, res9, res10]\n",
    "print(res1)\n",
    "print(res2)\n",
    "print(res3)\n",
    "print(res4)\n",
    "print(res5)\n",
    "print(res6)\n",
    "print(res7)\n",
    "print(res8)\n",
    "print(res9)\n",
    "print(res10)"
   ]
  },
  {
   "cell_type": "code",
   "execution_count": 27,
   "metadata": {
    "scrolled": true
   },
   "outputs": [
    {
     "name": "stdout",
     "output_type": "stream",
     "text": [
      "삼성전자 sk 하이닉스 네이버 카카오 삼성 바이오로직스 lg화학 삼성sdi 현대차 기아 셀트리온 카카오 뱅크 크래프톤 포스코 kb금융 현대모비스 sk 텔레콤 삼성물산 sk 이노베이션 lg전자 신한 지주\n",
      "엘지생활건강 엔씨소프트 sk 바이오 사이언스 sk 하이닉스 한국전력 lg 두산 중공업 삼성생명 하나금융지주 삼성전기 삼성sds 케이티앤지 넷마블 sk 아이이 테크놀로지 hm 포스코 케미칼 s-oil 아모레퍼시픽 대한항공\n",
      "삼성화재 우리금융지주 고려아연 기업은행 kt sk 바이오 팜 한온 시스템 lg디스플레이 롯데 케미칼 한국조선 해양 한화 솔루션 skc lg유플러스 코웨이 강원랜드 현대글로비스 현대 건설 cj 제일 제당 lg이노텍 미레 에셋\n",
      "현대제철 한국 타이어앤 테크놀로지 금호석유 일진 머티리얼즈 한국금융지주 현대중공업 지주 두산 밥캣 이마트 삼성엔지니어링 오리온 유한양행 삼성 증권 아모레 g db 손해보험 쌍용씨앤비 한진 케미칼 한솔케미칼 nh 투자증권 한국가스공사 gs\n",
      "삼성카드 한전기술 삼성중공업 한미사이언스 동서 gs건설 롯데 지주 두산 퓨얼셀 gs리테일 한미약품 s1 호텔신라 메리츠 증권 cj 대한통운 만도 롯데쇼핑 현대미포조선 한화 생명 팬오션 한화 시스템\n",
      "bgf 리테일 효성 첨단소재 키움 증권 oci bnk 금융지주 cj kcc 녹십자 한국항공 우주 sk 케미칼 제일기획 db 하이텍 씨에스윈드 대우조선해양 효성티앤씨 디앤씨 신풍제약 대우건설 신세계 현대로템 하이트진로 한화\n",
      "하이트진로 한화 포스코 인터내셔널 휠라 홀딩스 현대해상 두산 코오롱인더 한화 에어로스페이스 한전kps 후성 현대위아 효성 한샘 롯데 정밀화학 현대엘리베이 현대백화점 엘르 ls electric 대웅 ls 영원무역\n",
      "아시아나 항공 한국엔 컴퍼니 에프앤에스 홀딩스 농심 오뚜기 대한전선 hdc 현대산업개발 동원시스템즈 동국제강 금호타이어 대웅제약 종근당 더블유 게임즈 코스맥스 지누스 롯데관광개발 아이에스 동서 영풍 sk 네트웍스 녹십자홀딩스\n",
      "롯데칠성 dl 이노션 화승 엔터프라이즈 kg 동부제철 신세계 인터내셔날 cj cgv 한올바이오파마 엘 x 인터네셔널 태광산업 세방전지 대한유화 lig 넥스원 삼양홀딩스 오리온 홀딩스 부광 약품 영진 약품 보령제약 현대그린푸드 동원산업\n",
      "sk 디스커버리 한섬 휴켐스 풍산 한세실업 gkl 한국콜마 쿠쿠홈시스 대상 넥센타이어 동원에프앤비 쿠쿠 홀딩스 snt 모티브 현대홈쇼핑 현대 두산인프라코어 lx 홀딩스 lx 하우시스 롯데 하이마트 일양약품 삼양식품\n"
     ]
    }
   ],
   "source": [
    "for r in res:\n",
    "    print(r.split('\":\"')[1].split('\"')[0])"
   ]
  },
  {
   "cell_type": "code",
   "execution_count": 35,
   "metadata": {},
   "outputs": [],
   "source": [
    "# 녹음 파일\n",
    "\n",
    "a = ['삼성전자', 'sk 하이닉스', '네이버', '카카오', '삼성 바이오로직스',\n",
    "     'lg화학', '삼성sdi', '현대차', '기아', '셀트리온', '카카오 뱅크',\n",
    "'크래프톤', '포스코', 'kb금융', '현대모비스', 'sk 텔레콤', '삼성물산', \n",
    "'sk 이노베이션', 'lg전자', '신한 지주', '엘지생활건강','엔씨소프트',\n",
    "'sk 바이오 사이언스', 'sk', '하이브', '한국전력', 'lg', '두산 중공업', \n",
    "'삼성생명', '하나금융지주', '삼성전기', '삼성sds', '케이티앤지', '넷마블',\n",
    "'sk 아이이 테크놀로지', 'hm', '포스코 케미칼', 's-oil', '아모레퍼시픽', \n",
    "'대한항공','삼성화재', '우리금융지주', '고려아연', '기업은행', 'kt', \n",
    "'sk 바이오 팜', '한온 시스템', 'lg디스플레이', '롯데 케미칼', '한국조선 해양',\n",
    "'한화 솔루션', 'skc', 'lg유플러스', '코웨이', '강원랜드', '현대글로비스', \n",
    "'현대 건설', 'cj 제일 제당', 'lg이노텍', '미레 에셋 증권','현대제철', \n",
    "'한국 타이어앤 테크놀로지', '금호석유', '일진 머티리얼즈', '한국금융지주', \n",
    "'현대중공업 지주', '두산 밥캣','이마트','삼성엔지니어링', '오리온', \n",
    "'유한양행', '삼성 증권', '아모레 g', 'db 손해보험', '쌍용씨앤비', \n",
    "'한진칼', '한솔케미칼', 'nh 투자증권',\n",
    "'한국가스공사', 'gs','삼성카드', '한전기술', '삼성중공업', '한미사이언스', \n",
    "'동서', 'gs건설', '롯데 지주', '두산 퓨얼셀', 'gs리테일', '한미약품',\n",
    "'s1', '호텔신라', '메리츠 증권', 'cj 대한통운', '만도', '롯데쇼핑', \n",
    "'현대미포조선', '한화 생명', '팬오션', '한화 시스템','bgf 리테일', \n",
    "'효성 첨단소재', '키움 증권', 'oci', 'bnk 금융지주', 'cj', 'kcc', \n",
    "'녹십자', '한국항공 우주', 'sk 케미칼','제일기획', 'db 하이텍', '씨에스윈드', \n",
    "'대우조선해양', '효성티앤씨', 'dl 이엔씨', '신풍제약', '대우건설', '신세계', \n",
    "'현대로템', '하이트진로', '한화','포스코 인터내셔널', \n",
    "'휠라 홀딩스', '현대해상','두산', '코오롱인더','한화 에어로스페이스', \n",
    "'한전kps', '후성', '현대위아', '효성', '한샘', '롯데 정밀화학',\n",
    "'현대엘리베이', '현대백화점', 'ls electric', '대웅', 'ls', '영원무역',\n",
    "'아시아나 항공', '한국엔 컴퍼니', '에프앤에스 홀딩스', '농심', '오뚜기', \n",
    "'대한전선','hdc 현대산업개발', '동원시스템즈', '동국제강', '금호타이어', \n",
    "'대웅제약', '종근당', '더블유 게임즈', '코스맥스', '지누스', '롯데관광개발', \n",
    "'아이에스 동서', '영풍','sk 네트웍스', '녹십자홀딩스','롯데칠성', 'dl', \n",
    "'이노션' ,'화승 엔터프라이즈','kg 동부제철', '신세계 인터내셔날', \n",
    "'cj cgv', '한올바이오파마', 'lx 인터내셔널','태광산업', '세방전지',\n",
    "'대한유화', 'lig 넥스원', '삼양홀딩스', '오리온 홀딩스', '부광 약품', \n",
    "'영진 약품', '보령제약', '현대그린푸드', '동원산업','sk 디스커버리',\n",
    "'한섬', '휴켐스', '풍산', '한세실업', 'gkl', '한국콜마', '쿠쿠홈시스',\n",
    "'대상', '넥센타이어','동원에프앤비', '쿠쿠 홀딩스', 'snt 모티브',\n",
    "'현대홈쇼핑', '현대 두산인프라코어','lx 홀딩스', 'lx 하우시스', \n",
    "'롯데 하이마트', '일양약품', '삼양식품']"
   ]
  },
  {
   "cell_type": "code",
   "execution_count": 36,
   "metadata": {},
   "outputs": [
    {
     "data": {
      "text/plain": [
       "200"
      ]
     },
     "execution_count": 36,
     "metadata": {},
     "output_type": "execute_result"
    }
   ],
   "source": [
    "len(a)"
   ]
  },
  {
   "cell_type": "code",
   "execution_count": 34,
   "metadata": {},
   "outputs": [
    {
     "data": {
      "text/plain": [
       "'{\"text\":\"lx 인터내셔널\"}'"
      ]
     },
     "execution_count": 34,
     "metadata": {},
     "output_type": "execute_result"
    }
   ],
   "source": [
    "data = open(\"./audio_file/as.wav\", \"rb\") # STT를 진행하고자 하는 음성 파일\n",
    "res2 = requests.post(URL,  data=data, headers=headers)\n",
    "res2.text"
   ]
  }
 ],
 "metadata": {
  "kernelspec": {
   "display_name": "Python 3",
   "language": "python",
   "name": "python3"
  },
  "language_info": {
   "codemirror_mode": {
    "name": "ipython",
    "version": 3
   },
   "file_extension": ".py",
   "mimetype": "text/x-python",
   "name": "python",
   "nbconvert_exporter": "python",
   "pygments_lexer": "ipython3",
   "version": "3.8.3"
  }
 },
 "nbformat": 4,
 "nbformat_minor": 4
}
